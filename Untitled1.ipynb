{
 "cells": [
  {
   "cell_type": "code",
   "execution_count": 1,
   "metadata": {},
   "outputs": [],
   "source": [
    "import matplotlib.pyplot as plt\n",
    "import datetime\n",
    "import pandas as pd\n",
    "import seaborn as sns\n",
    "from pandas.plotting import register_matplotlib_converters\n",
    "register_matplotlib_converters()"
   ]
  },
  {
   "cell_type": "code",
   "execution_count": 3,
   "metadata": {},
   "outputs": [
    {
     "data": {
      "text/html": [
       "<div>\n",
       "<style scoped>\n",
       "    .dataframe tbody tr th:only-of-type {\n",
       "        vertical-align: middle;\n",
       "    }\n",
       "\n",
       "    .dataframe tbody tr th {\n",
       "        vertical-align: top;\n",
       "    }\n",
       "\n",
       "    .dataframe thead th {\n",
       "        text-align: right;\n",
       "    }\n",
       "</style>\n",
       "<table border=\"1\" class=\"dataframe\">\n",
       "  <thead>\n",
       "    <tr style=\"text-align: right;\">\n",
       "      <th></th>\n",
       "      <th>value</th>\n",
       "      <th>date_2</th>\n",
       "    </tr>\n",
       "    <tr>\n",
       "      <th>date</th>\n",
       "      <th></th>\n",
       "      <th></th>\n",
       "    </tr>\n",
       "  </thead>\n",
       "  <tbody>\n",
       "    <tr>\n",
       "      <th>2016-05-09</th>\n",
       "      <td>1201</td>\n",
       "      <td>2016-05-09</td>\n",
       "    </tr>\n",
       "    <tr>\n",
       "      <th>2016-05-10</th>\n",
       "      <td>2329</td>\n",
       "      <td>2016-05-10</td>\n",
       "    </tr>\n",
       "    <tr>\n",
       "      <th>2016-05-11</th>\n",
       "      <td>1716</td>\n",
       "      <td>2016-05-11</td>\n",
       "    </tr>\n",
       "    <tr>\n",
       "      <th>2016-05-12</th>\n",
       "      <td>10539</td>\n",
       "      <td>2016-05-12</td>\n",
       "    </tr>\n",
       "    <tr>\n",
       "      <th>2016-05-13</th>\n",
       "      <td>6933</td>\n",
       "      <td>2016-05-13</td>\n",
       "    </tr>\n",
       "    <tr>\n",
       "      <th>...</th>\n",
       "      <td>...</td>\n",
       "      <td>...</td>\n",
       "    </tr>\n",
       "    <tr>\n",
       "      <th>2019-11-29</th>\n",
       "      <td>171584</td>\n",
       "      <td>2019-11-29</td>\n",
       "    </tr>\n",
       "    <tr>\n",
       "      <th>2019-11-30</th>\n",
       "      <td>141161</td>\n",
       "      <td>2019-11-30</td>\n",
       "    </tr>\n",
       "    <tr>\n",
       "      <th>2019-12-01</th>\n",
       "      <td>142918</td>\n",
       "      <td>2019-12-01</td>\n",
       "    </tr>\n",
       "    <tr>\n",
       "      <th>2019-12-02</th>\n",
       "      <td>220144</td>\n",
       "      <td>2019-12-02</td>\n",
       "    </tr>\n",
       "    <tr>\n",
       "      <th>2019-12-03</th>\n",
       "      <td>158549</td>\n",
       "      <td>2019-12-03</td>\n",
       "    </tr>\n",
       "  </tbody>\n",
       "</table>\n",
       "<p>1304 rows × 2 columns</p>\n",
       "</div>"
      ],
      "text/plain": [
       "             value     date_2\n",
       "date                         \n",
       "2016-05-09    1201 2016-05-09\n",
       "2016-05-10    2329 2016-05-10\n",
       "2016-05-11    1716 2016-05-11\n",
       "2016-05-12   10539 2016-05-12\n",
       "2016-05-13    6933 2016-05-13\n",
       "...            ...        ...\n",
       "2019-11-29  171584 2019-11-29\n",
       "2019-11-30  141161 2019-11-30\n",
       "2019-12-01  142918 2019-12-01\n",
       "2019-12-02  220144 2019-12-02\n",
       "2019-12-03  158549 2019-12-03\n",
       "\n",
       "[1304 rows x 2 columns]"
      ]
     },
     "execution_count": 3,
     "metadata": {},
     "output_type": "execute_result"
    }
   ],
   "source": [
    "df= pd.read_csv('C:/Users/Owner/Dropbox/My PC (DESKTOP-TUG1RDI)/Documents/FreeCodeCamp/FreeCodeCamp4/fcc-forum-pageviews.csv',parse_dates=True)\n",
    "df = df.set_index('date')\n",
    "df['date_2'] = df.index\n",
    "df['date_2'] = pd.to_datetime(df['date_2'])\n",
    "df"
   ]
  },
  {
   "cell_type": "code",
   "execution_count": 4,
   "metadata": {},
   "outputs": [
    {
     "name": "stdout",
     "output_type": "stream",
     "text": [
      "<class 'pandas.core.frame.DataFrame'>\n",
      "Index: 1271 entries, 2016-05-09 to 2019-12-03\n",
      "Data columns (total 2 columns):\n",
      " #   Column  Non-Null Count  Dtype         \n",
      "---  ------  --------------  -----         \n",
      " 0   value   1271 non-null   int64         \n",
      " 1   date_2  1271 non-null   datetime64[ns]\n",
      "dtypes: datetime64[ns](1), int64(1)\n",
      "memory usage: 29.8+ KB\n"
     ]
    }
   ],
   "source": [
    "down = df[df['value'] >= df['value'].quantile(0.975)].index\n",
    "df.drop(down, inplace = True)\n",
    "df.info()"
   ]
  },
  {
   "cell_type": "code",
   "execution_count": 5,
   "metadata": {},
   "outputs": [
    {
     "data": {
      "text/html": [
       "<div>\n",
       "<style scoped>\n",
       "    .dataframe tbody tr th:only-of-type {\n",
       "        vertical-align: middle;\n",
       "    }\n",
       "\n",
       "    .dataframe tbody tr th {\n",
       "        vertical-align: top;\n",
       "    }\n",
       "\n",
       "    .dataframe thead th {\n",
       "        text-align: right;\n",
       "    }\n",
       "</style>\n",
       "<table border=\"1\" class=\"dataframe\">\n",
       "  <thead>\n",
       "    <tr style=\"text-align: right;\">\n",
       "      <th></th>\n",
       "      <th>value</th>\n",
       "      <th>date_2</th>\n",
       "    </tr>\n",
       "    <tr>\n",
       "      <th>date</th>\n",
       "      <th></th>\n",
       "      <th></th>\n",
       "    </tr>\n",
       "  </thead>\n",
       "  <tbody>\n",
       "    <tr>\n",
       "      <th>2016-05-12</th>\n",
       "      <td>10539</td>\n",
       "      <td>2016-05-12</td>\n",
       "    </tr>\n",
       "    <tr>\n",
       "      <th>2016-05-13</th>\n",
       "      <td>6933</td>\n",
       "      <td>2016-05-13</td>\n",
       "    </tr>\n",
       "    <tr>\n",
       "      <th>2016-05-14</th>\n",
       "      <td>3127</td>\n",
       "      <td>2016-05-14</td>\n",
       "    </tr>\n",
       "    <tr>\n",
       "      <th>2016-05-15</th>\n",
       "      <td>2927</td>\n",
       "      <td>2016-05-15</td>\n",
       "    </tr>\n",
       "    <tr>\n",
       "      <th>2016-05-17</th>\n",
       "      <td>3403</td>\n",
       "      <td>2016-05-17</td>\n",
       "    </tr>\n",
       "    <tr>\n",
       "      <th>...</th>\n",
       "      <td>...</td>\n",
       "      <td>...</td>\n",
       "    </tr>\n",
       "    <tr>\n",
       "      <th>2019-11-24</th>\n",
       "      <td>138875</td>\n",
       "      <td>2019-11-24</td>\n",
       "    </tr>\n",
       "    <tr>\n",
       "      <th>2019-11-29</th>\n",
       "      <td>171584</td>\n",
       "      <td>2019-11-29</td>\n",
       "    </tr>\n",
       "    <tr>\n",
       "      <th>2019-11-30</th>\n",
       "      <td>141161</td>\n",
       "      <td>2019-11-30</td>\n",
       "    </tr>\n",
       "    <tr>\n",
       "      <th>2019-12-01</th>\n",
       "      <td>142918</td>\n",
       "      <td>2019-12-01</td>\n",
       "    </tr>\n",
       "    <tr>\n",
       "      <th>2019-12-03</th>\n",
       "      <td>158549</td>\n",
       "      <td>2019-12-03</td>\n",
       "    </tr>\n",
       "  </tbody>\n",
       "</table>\n",
       "<p>1267 rows × 2 columns</p>\n",
       "</div>"
      ],
      "text/plain": [
       "             value     date_2\n",
       "date                         \n",
       "2016-05-12   10539 2016-05-12\n",
       "2016-05-13    6933 2016-05-13\n",
       "2016-05-14    3127 2016-05-14\n",
       "2016-05-15    2927 2016-05-15\n",
       "2016-05-17    3403 2016-05-17\n",
       "...            ...        ...\n",
       "2019-11-24  138875 2019-11-24\n",
       "2019-11-29  171584 2019-11-29\n",
       "2019-11-30  141161 2019-11-30\n",
       "2019-12-01  142918 2019-12-01\n",
       "2019-12-03  158549 2019-12-03\n",
       "\n",
       "[1267 rows x 2 columns]"
      ]
     },
     "execution_count": 5,
     "metadata": {},
     "output_type": "execute_result"
    }
   ],
   "source": [
    "up = df[df['value'] <= df['value'].quantile(.0025)].index\n",
    "df.drop(up, inplace = True)\n",
    "df"
   ]
  },
  {
   "cell_type": "code",
   "execution_count": 25,
   "metadata": {},
   "outputs": [],
   "source": [
    "df[\"date_2\"].dt.strftime(\"%A/%b/%Y\")\n",
    "df['year'] = df['date_2'].dt.year\n",
    "df['month'] = df['date_2'].dt.month_name().str.slice(stop=3)"
   ]
  },
  {
   "cell_type": "code",
   "execution_count": 19,
   "metadata": {},
   "outputs": [
    {
     "data": {
      "text/html": [
       "<div>\n",
       "<style scoped>\n",
       "    .dataframe tbody tr th:only-of-type {\n",
       "        vertical-align: middle;\n",
       "    }\n",
       "\n",
       "    .dataframe tbody tr th {\n",
       "        vertical-align: top;\n",
       "    }\n",
       "\n",
       "    .dataframe thead th {\n",
       "        text-align: right;\n",
       "    }\n",
       "</style>\n",
       "<table border=\"1\" class=\"dataframe\">\n",
       "  <thead>\n",
       "    <tr style=\"text-align: right;\">\n",
       "      <th></th>\n",
       "      <th>value</th>\n",
       "      <th>date_2</th>\n",
       "      <th>year</th>\n",
       "      <th>month</th>\n",
       "    </tr>\n",
       "    <tr>\n",
       "      <th>date</th>\n",
       "      <th></th>\n",
       "      <th></th>\n",
       "      <th></th>\n",
       "      <th></th>\n",
       "    </tr>\n",
       "  </thead>\n",
       "  <tbody>\n",
       "    <tr>\n",
       "      <th>2016-05-12</th>\n",
       "      <td>10539</td>\n",
       "      <td>2016-05-12</td>\n",
       "      <td>2016</td>\n",
       "      <td>May</td>\n",
       "    </tr>\n",
       "    <tr>\n",
       "      <th>2016-05-13</th>\n",
       "      <td>6933</td>\n",
       "      <td>2016-05-13</td>\n",
       "      <td>2016</td>\n",
       "      <td>May</td>\n",
       "    </tr>\n",
       "    <tr>\n",
       "      <th>2016-05-14</th>\n",
       "      <td>3127</td>\n",
       "      <td>2016-05-14</td>\n",
       "      <td>2016</td>\n",
       "      <td>May</td>\n",
       "    </tr>\n",
       "    <tr>\n",
       "      <th>2016-05-15</th>\n",
       "      <td>2927</td>\n",
       "      <td>2016-05-15</td>\n",
       "      <td>2016</td>\n",
       "      <td>May</td>\n",
       "    </tr>\n",
       "    <tr>\n",
       "      <th>2016-05-17</th>\n",
       "      <td>3403</td>\n",
       "      <td>2016-05-17</td>\n",
       "      <td>2016</td>\n",
       "      <td>May</td>\n",
       "    </tr>\n",
       "    <tr>\n",
       "      <th>...</th>\n",
       "      <td>...</td>\n",
       "      <td>...</td>\n",
       "      <td>...</td>\n",
       "      <td>...</td>\n",
       "    </tr>\n",
       "    <tr>\n",
       "      <th>2019-11-24</th>\n",
       "      <td>138875</td>\n",
       "      <td>2019-11-24</td>\n",
       "      <td>2019</td>\n",
       "      <td>Nov</td>\n",
       "    </tr>\n",
       "    <tr>\n",
       "      <th>2019-11-29</th>\n",
       "      <td>171584</td>\n",
       "      <td>2019-11-29</td>\n",
       "      <td>2019</td>\n",
       "      <td>Nov</td>\n",
       "    </tr>\n",
       "    <tr>\n",
       "      <th>2019-11-30</th>\n",
       "      <td>141161</td>\n",
       "      <td>2019-11-30</td>\n",
       "      <td>2019</td>\n",
       "      <td>Nov</td>\n",
       "    </tr>\n",
       "    <tr>\n",
       "      <th>2019-12-01</th>\n",
       "      <td>142918</td>\n",
       "      <td>2019-12-01</td>\n",
       "      <td>2019</td>\n",
       "      <td>Dec</td>\n",
       "    </tr>\n",
       "    <tr>\n",
       "      <th>2019-12-03</th>\n",
       "      <td>158549</td>\n",
       "      <td>2019-12-03</td>\n",
       "      <td>2019</td>\n",
       "      <td>Dec</td>\n",
       "    </tr>\n",
       "  </tbody>\n",
       "</table>\n",
       "<p>1267 rows × 4 columns</p>\n",
       "</div>"
      ],
      "text/plain": [
       "             value     date_2  year month\n",
       "date                                     \n",
       "2016-05-12   10539 2016-05-12  2016   May\n",
       "2016-05-13    6933 2016-05-13  2016   May\n",
       "2016-05-14    3127 2016-05-14  2016   May\n",
       "2016-05-15    2927 2016-05-15  2016   May\n",
       "2016-05-17    3403 2016-05-17  2016   May\n",
       "...            ...        ...   ...   ...\n",
       "2019-11-24  138875 2019-11-24  2019   Nov\n",
       "2019-11-29  171584 2019-11-29  2019   Nov\n",
       "2019-11-30  141161 2019-11-30  2019   Nov\n",
       "2019-12-01  142918 2019-12-01  2019   Dec\n",
       "2019-12-03  158549 2019-12-03  2019   Dec\n",
       "\n",
       "[1267 rows x 4 columns]"
      ]
     },
     "execution_count": 19,
     "metadata": {},
     "output_type": "execute_result"
    }
   ],
   "source": [
    "df"
   ]
  },
  {
   "cell_type": "code",
   "execution_count": 27,
   "metadata": {},
   "outputs": [
    {
     "data": {
      "image/png": "[encoded data removed]",
      "text/plain": [
       "<Figure size 403.2x576 with 1 Axes>"
      ]
     },
     "metadata": {
      "needs_background": "light"
     },
     "output_type": "display_data"
    },
    {
     "data": {
      "image/png": "[encoded data removed]",
      "text/plain": [
       "<Figure size 1008x1440 with 1 Axes>"
      ]
     },
     "metadata": {
      "needs_background": "light"
     },
     "output_type": "display_data"
    }
   ],
   "source": [
    "\n",
    "\n",
    "sns.catplot(#ax=axes[0]\n",
    "            x='year', y=\"value\", \n",
    "    data=df, kind=\"box\",\n",
    "                height=8, aspect=.7).set(title='Year-Wise Boxplot (Trend)').set(\n",
    "    xlabel='Year', \n",
    "    ylabel='Page Views'\n",
    "    \n",
    ");\n",
    "sns.catplot(#ax=axes[1]\n",
    "            x=\"month\", y=\"value\",\n",
    "                #hue=\"smoker\", col=\"time\",\n",
    "                data=df, kind=\"box\",\n",
    "                height=20, aspect=.7).set(title='Monthly-Wise Boxplot (Trend)').set(\n",
    "     xlabel='Year', \n",
    "    ylabel='Page Views'\n",
    ");"
   ]
  },
  {
   "cell_type": "code",
   "execution_count": 31,
   "metadata": {},
   "outputs": [
    {
     "data": {
      "text/plain": [
       "[Text(0.5, 1.0, 'Monthly-Wise Boxplot (Trend)')]"
      ]
     },
     "execution_count": 31,
     "metadata": {},
     "output_type": "execute_result"
    },
    {
     "data": {
      "image/png": "[encoded data removed]",
      "text/plain": [
       "<Figure size 1296x720 with 2 Axes>"
      ]
     },
     "metadata": {
      "needs_background": "light"
     },
     "output_type": "display_data"
    }
   ],
   "source": [
    "df[\"date_2\"].dt.strftime(\"%A/%b/%Y\")\n",
    "df['year'] = df['date_2'].dt.year\n",
    "df['month'] = df['date_2'].dt.month_name().str.slice(stop=3)\n",
    "\n",
    "fig, axes = plt.subplots(1, 2, figsize=(18, 10))\n",
    "sns.boxplot(ax=axes[0],  x=df['year'], y=df['value'],\n",
    "            \n",
    "    ).set(title='Year-Wise Boxplot (Trend)')\n",
    "    \n",
    "\n",
    "sns.boxplot(ax=axes[1],x=\"month\", y=\"value\", data=df,order=[\"Jan\", \"Feb\",'Mar','Ap','May','Jun','Jul','Aug','Sep','Oct','Nov','Dec'], ).set(title='Monthly-Wise Boxplot (Trend)')\n"
   ]
  },
  {
   "cell_type": "code",
   "execution_count": null,
   "metadata": {},
   "outputs": [],
   "source": []
  }
 ],
 "metadata": {
  "kernelspec": {
   "display_name": "Python 3",
   "language": "python",
   "name": "python3"
  },
  "language_info": {
   "codemirror_mode": {
    "name": "ipython",
    "version": 3
   },
   "file_extension": ".py",
   "mimetype": "text/x-python",
   "name": "python",
   "nbconvert_exporter": "python",
   "pygments_lexer": "ipython3",
   "version": "3.8.4"
  }
 },
 "nbformat": 4,
 "nbformat_minor": 4
}
